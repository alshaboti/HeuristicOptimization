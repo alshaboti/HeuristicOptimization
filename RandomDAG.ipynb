{
 "cells": [
  {
   "cell_type": "code",
   "execution_count": 10,
   "metadata": {},
   "outputs": [
    {
     "name": "stdout",
     "output_type": "stream",
     "text": [
      "{4: [0], 2: [3, 0, 1], 3: [0, 1]}\n",
      "{0: {4: {}, 3: {}, 2: {}}, 1: {3: {}, 2: {}}, 2: {}, 3: {2: {}}, 4: {}}\n",
      "0 -> 4  my parents are \n",
      "0 -> 3  my parents are \n",
      "0 -> 2  my parents are \n",
      "1 -> 3  my parents are \n",
      "1 -> 2  my parents are \n",
      "3 -> 2  my parents are \n"
     ]
    },
    {
     "data": {
      "image/png": "[encoded data removed]",
      "text/plain": [
       "<Figure size 432x288 with 1 Axes>"
      ]
     },
     "metadata": {},
     "output_type": "display_data"
    }
   ],
   "source": [
    "import networkx as nx\n",
    "from random import randint\n",
    "\n",
    "class RandomDAG:\n",
    "    def __init__(self):\n",
    "        self.randDAG = nx.DiGraph()\n",
    "        \n",
    "    # connected graph req (n-1) edges at least\n",
    "    # DAG can't be more than n(n-1) edges\n",
    "    # https://ipython.org/ipython-doc/3/parallel/dag_dependencies.html\n",
    "    def random_dag(self, n_nodes, n_edges):\n",
    "        self.n_nodes = n_nodes\n",
    "        self.n_edges = n_edges\n",
    "        child_parent = {}\n",
    "\n",
    "        if n_edges > n_nodes * (n_nodes-1):\n",
    "            self.n_edges = n_nodes * (n_nodes - 1)\n",
    "\n",
    "        \"\"\"Generate a random Directed Acyclic Graph (DAG) with a given number of nodes and edges.\"\"\"\n",
    "        self.randDAG = nx.DiGraph()\n",
    "        # add nodes, labeled 0...nodes:\n",
    "        for i in range(self.n_nodes):\n",
    "            self.randDAG.add_node(i)\n",
    "        round = 1000\n",
    "        while self.n_edges > 0 and round > 0:\n",
    "            round -= 1\n",
    "            a = randint(0, self.n_nodes - 1)\n",
    "            b = a\n",
    "            while b == a or self.randDAG.has_edge(a,b):\n",
    "                b = randint(0, self.n_nodes - 1)\n",
    "            self.randDAG.add_edge(a, b)\n",
    "            if nx.is_directed_acyclic_graph(self.randDAG):\n",
    "                self.n_edges -= 1\n",
    "                parent = child_parent.get(b)\n",
    "                if  parent is None:\n",
    "                    parent = [a]\n",
    "                else:\n",
    "                    parent.append(a)\n",
    "                child_parent[b] = parent\n",
    "                #print(a,\"-> \", b)\n",
    "            else:\n",
    "                # we closed a loop!\n",
    "                self.randDAG.remove_edge(a, b)\n",
    "                \n",
    "        return self.randDAG, child_parent\n",
    "\n",
    "\n",
    "G,p = RandomDAG().random_dag(5,6)\n",
    "\n",
    "print(p)\n",
    "# print(G.nodes())\n",
    "# print(G.neighbors(1))# childs\n",
    "# print(G.adj)\n",
    "\n",
    "\n",
    "nx.draw(G,with_labels = True)\n",
    "# print(nx.is_directed_acyclic_graph(G)    )\n",
    "edges_dict =G.edge\n",
    "print(edges_dict)\n",
    "for a in edges_dict.keys():\n",
    "    for b in edges_dict[a].keys():\n",
    "        print (a,\"->\", b, \" my parents are \", )\n"
   ]
  },
  {
   "cell_type": "code",
   "execution_count": null,
   "metadata": {},
   "outputs": [],
   "source": []
  }
 ],
 "metadata": {
  "kernelspec": {
   "display_name": "Python 3",
   "language": "python",
   "name": "python3"
  },
  "language_info": {
   "codemirror_mode": {
    "name": "ipython",
    "version": 3
   },
   "file_extension": ".py",
   "mimetype": "text/x-python",
   "name": "python",
   "nbconvert_exporter": "python",
   "pygments_lexer": "ipython3",
   "version": "3.7.2"
  }
 },
 "nbformat": 4,
 "nbformat_minor": 2
}
