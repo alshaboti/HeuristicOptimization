{
 "cells": [
  {
   "cell_type": "code",
   "execution_count": 10,
   "metadata": {},
   "outputs": [
    {
     "ename": "KeyError",
     "evalue": "{\n    \"class\" : \"State\",\n    \"distribution\" : {\n        \"class\" : \"Distribution\",\n        \"dtype\" : \"str\",\n        \"name\" : \"DiscreteDistribution\",\n        \"parameters\" : [\n            {\n                \"d1\" : 0.8,\n                \"d2\" : 0.2\n            }\n        ],\n        \"frozen\" : false\n    },\n    \"name\" : \"door\",\n    \"weight\" : 1.0\n}",
     "output_type": "error",
     "traceback": [
      "\u001b[0;31m---------------------------------------------------------------------------\u001b[0m",
      "\u001b[0;31mKeyError\u001b[0m                                  Traceback (most recent call last)",
      "\u001b[0;32m<ipython-input-10-4fe31647b871>\u001b[0m in \u001b[0;36m<module>\u001b[0;34m\u001b[0m\n\u001b[1;32m     49\u001b[0m \u001b[0;31m# network.add_edge(s_light,s_coffee_maker)\u001b[0m\u001b[0;34m\u001b[0m\u001b[0;34m\u001b[0m\u001b[0;34m\u001b[0m\u001b[0m\n\u001b[1;32m     50\u001b[0m \u001b[0;34m\u001b[0m\u001b[0m\n\u001b[0;32m---> 51\u001b[0;31m \u001b[0mnetwork\u001b[0m\u001b[0;34m.\u001b[0m\u001b[0mbake\u001b[0m\u001b[0;34m(\u001b[0m\u001b[0;34m)\u001b[0m\u001b[0;34m\u001b[0m\u001b[0;34m\u001b[0m\u001b[0m\n\u001b[0m\u001b[1;32m     52\u001b[0m \u001b[0;31m# d, a, l, c\u001b[0m\u001b[0;34m\u001b[0m\u001b[0;34m\u001b[0m\u001b[0;34m\u001b[0m\u001b[0m\n\u001b[1;32m     53\u001b[0m \u001b[0;34m\u001b[0m\u001b[0m\n",
      "\u001b[0;32mpomegranate/BayesianNetwork.pyx\u001b[0m in \u001b[0;36mpomegranate.BayesianNetwork.BayesianNetwork.bake\u001b[0;34m()\u001b[0m\n",
      "\u001b[0;31mKeyError\u001b[0m: {\n    \"class\" : \"State\",\n    \"distribution\" : {\n        \"class\" : \"Distribution\",\n        \"dtype\" : \"str\",\n        \"name\" : \"DiscreteDistribution\",\n        \"parameters\" : [\n            {\n                \"d1\" : 0.8,\n                \"d2\" : 0.2\n            }\n        ],\n        \"frozen\" : false\n    },\n    \"name\" : \"door\",\n    \"weight\" : 1.0\n}"
     ]
    }
   ],
   "source": [
    "\n",
    "from pomegranate import *\n",
    "import itertools\n",
    "\n",
    "\n",
    "# clock_alarm = DiscreteDistribution( { 'a1' : 0.8, 'a2' : 0.2} )\n",
    "\n",
    "# light = ConditionalProbabilityTable(\n",
    "#     [[ 'd1', 'a1', 'l1', 0.8 ],\n",
    "#      [ 'd1', 'a1', 'l2', 0.2 ],\n",
    "#      [ 'd1', 'a2', 'l1', 0.7 ],\n",
    "#      [ 'd1', 'a2', 'l2', 0.3 ],\n",
    "#      [ 'd2', 'a1', 'l1', 0.5 ],\n",
    "#      [ 'd2', 'a1', 'l2', 0.5 ],\n",
    "#      [ 'd2', 'a2', 'l1', 0.6 ],\n",
    "#      [ 'd2', 'a2', 'l2', 0.4 ]], [door_lock, clock_alarm])\n",
    "\n",
    "\n",
    "# coffee_maker = ConditionalProbabilityTable(\n",
    "#     [[ 'a1', 'l1', 'c1', 0.9 ],\n",
    "#      [ 'a1', 'l1', 'c2', 0.1 ],\n",
    "#      [ 'a1', 'l2', 'c1', 0.1 ],\n",
    "#      [ 'a1', 'l2', 'c2', 0.9 ],\n",
    "#      [ 'a2', 'l1', 'c1', 0.9 ],\n",
    "#      [ 'a2', 'l1', 'c2', 0.1 ],\n",
    "#      [ 'a2', 'l2', 'c1', 0.2 ],\n",
    "#      [ 'a2', 'l2', 'c2', 0.8 ]], [clock_alarm, light] )\n",
    "\n",
    "\n",
    "door_lock = DiscreteDistribution({'d1': 0.8, 'd2': 0.2})\n",
    "\n",
    "light  = ConditionalProbabilityTable(\n",
    "    [[ 'd1', 'l1', 0.8 ],\n",
    "     [ 'd1', 'l2', 0.2],\n",
    "     [ 'd2', 'l1', 0.4 ],\n",
    "     [ 'd2', 'l2', 0.6 ]], [door_lock] )\n",
    "# coffee_maker = ConditionalProbabilityTable(\n",
    "#     [[ 'l1', 'c1', 0.8 ],\n",
    "#      [ 'l1', 'c2', 0.2],\n",
    "#      [ 'l2', 'c1', 0.4 ],\n",
    "#      [ 'l2', 'c2', 0.6 ]], [light] )\n",
    "\n",
    "s_door        = State(door_lock, name=\"door\")\n",
    "s_light        = State(light, name=\"light\")\n",
    "# s_coffee_maker = State(coffee_maker, name=\"coffee_maker\")\n",
    "\n",
    "network = BayesianNetwork(\"User_pref\")\n",
    "network.add_edge( s_door, s_light)\n",
    "# network.add_edge(s_light,s_coffee_maker)\n",
    "\n",
    "network.bake()\n",
    "# d, a, l, c\n",
    "\n",
    "# task= itertools.product(*[['d1,d2'],['l1','l2'],['c1','c2']])\n",
    "# for t in task:\n",
    "#     print(network.probability(t))\n",
    "# network.plot()"
   ]
  },
  {
   "cell_type": "code",
   "execution_count": null,
   "metadata": {},
   "outputs": [],
   "source": []
  }
 ],
 "metadata": {
  "kernelspec": {
   "display_name": "Python 3",
   "language": "python",
   "name": "python3"
  },
  "language_info": {
   "codemirror_mode": {
    "name": "ipython",
    "version": 3
   },
   "file_extension": ".py",
   "mimetype": "text/x-python",
   "name": "python",
   "nbconvert_exporter": "python",
   "pygments_lexer": "ipython3",
   "version": "3.7.2"
  }
 },
 "nbformat": 4,
 "nbformat_minor": 2
}
