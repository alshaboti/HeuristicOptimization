{
 "cells": [
  {
   "cell_type": "code",
   "execution_count": 3,
   "metadata": {},
   "outputs": [
    {
     "data": {
      "image/png": "[encoded data removed]",
      "text/plain": [
       "<Figure size 432x288 with 1 Axes>"
      ]
     },
     "metadata": {},
     "output_type": "display_data"
    }
   ],
   "source": [
    "import random \n",
    "import networkx as nx\n",
    "randint = random.randint\n",
    "class RandomDAG:\n",
    "    def __init__(self, nodes, n_edges):\n",
    "\n",
    "        self.n_nodes = len(nodes)\n",
    "        self.nodes = nodes\n",
    "        self.n_edges = n_edges\n",
    "\n",
    "        if n_edges > self.n_nodes * (self.n_nodes - 1):\n",
    "            self.n_edges = self.n_nodes * (self.n_nodes - 1)\n",
    "\n",
    "        self.randDAG = nx.DiGraph()\n",
    "\n",
    "    # connected graph req (n-1) edges at least\n",
    "    # DAG can't be more than n(n-1) edges\n",
    "    # https://ipython.org/ipython-doc/3/parallel/dag_dependencies.html\n",
    "\n",
    "    def random_dag(self):\n",
    "\n",
    "        \"\"\"Generate a random Directed Acyclic Graph (DAG) with a given number of nodes and edges.\"\"\"\n",
    "        # add nodes, labeled 0...nodes:\n",
    "        for i in range(self.n_nodes):\n",
    "            self.randDAG.add_node(self.nodes[i])\n",
    "\n",
    "        child_parent = {}\n",
    "\n",
    "        # to avoid infinit loop, need to have better solution\n",
    "        round = 1000\n",
    "        while self.n_edges > 0 and round > 0:\n",
    "            round -= 1\n",
    "\n",
    "            a = random.choice(self.nodes)            \n",
    "            b = random.choice(self.nodes)\n",
    "            while a == b or self.randDAG.has_edge(a, b):\n",
    "                b = random.choice(self.nodes)\n",
    "                \n",
    "            self.randDAG.add_edge(a, b)\n",
    "            if nx.is_directed_acyclic_graph(self.randDAG):\n",
    "                self.n_edges -= 1\n",
    "                parent = child_parent.get(b)\n",
    "                if parent is None:\n",
    "                    parent = [a]\n",
    "                else:\n",
    "                    parent.append(a)\n",
    "                child_parent[b] = parent\n",
    "                # print(a,\"-> \", b)\n",
    "            else:\n",
    "                # we closed a loop!\n",
    "                self.randDAG.remove_edge(a, b)\n",
    "                \n",
    "        return self.randDAG, child_parent\n",
    "        \n",
    "    def dag_longest_path(self, DAG):\n",
    "        return nx.dag_longest_path(DAG)\n",
    "    \n",
    "nodes  = ['n0', 'n1', 'n2', 'n3', 'n4']\n",
    "\n",
    "rdag = RandomDAG(nodes, n_edges = 3)\n",
    "g,p = rdag.random_dag()\n",
    "nx.draw(g,with_labels = True)\n"
   ]
  },
  {
   "cell_type": "code",
   "execution_count": null,
   "metadata": {},
   "outputs": [],
   "source": []
  }
 ],
 "metadata": {
  "kernelspec": {
   "display_name": "Python 3",
   "language": "python",
   "name": "python3"
  },
  "language_info": {
   "codemirror_mode": {
    "name": "ipython",
    "version": 3
   },
   "file_extension": ".py",
   "mimetype": "text/x-python",
   "name": "python",
   "nbconvert_exporter": "python",
   "pygments_lexer": "ipython3",
   "version": "3.7.2"
  }
 },
 "nbformat": 4,
 "nbformat_minor": 2
}
